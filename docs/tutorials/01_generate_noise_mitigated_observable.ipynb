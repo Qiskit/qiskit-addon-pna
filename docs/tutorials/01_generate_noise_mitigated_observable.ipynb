{
 "cells": [
  {
   "cell_type": "markdown",
   "id": "749c2f2b-6f02-4e81-b09d-39884fa3d9aa",
   "metadata": {},
   "source": [
    "# Tutorial 1: Generate noise-mitigated observable"
   ]
  }
 ],
 "metadata": {
  "kernelspec": {
   "display_name": "Python 3 (ipykernel)",
   "language": "python",
   "name": "python3"
  },
  "language_info": {
   "codemirror_mode": {
    "name": "ipython",
    "version": 3
   },
   "file_extension": ".py",
   "mimetype": "text/x-python",
   "name": "python",
   "nbconvert_exporter": "python",
   "pygments_lexer": "ipython3",
   "version": "3.12.9"
  }
 },
 "nbformat": 4,
 "nbformat_minor": 5
}
